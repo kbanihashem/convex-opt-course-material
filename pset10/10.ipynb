{
 "cells": [
  {
   "cell_type": "markdown",
   "metadata": {},
   "source": [
    "# 1 (3.3)"
   ]
  },
  {
   "cell_type": "code",
   "execution_count": 12,
   "metadata": {},
   "outputs": [],
   "source": [
    "%reset -f"
   ]
  },
  {
   "cell_type": "code",
   "execution_count": 5,
   "metadata": {},
   "outputs": [
    {
     "name": "stdout",
     "output_type": "stream",
     "text": [
      "a before: False\n",
      "a after: True\n",
      "b before and after!: True\n",
      "c before: False\n",
      "c after: True\n",
      "d before: True\n",
      "d after: True\n",
      "e before: False\n",
      "e after: True\n",
      "f before: False\n",
      "f after: True\n",
      "g before: True\n",
      "g solution: -0.00\n",
      "h before: False\n",
      "h after: True\n"
     ]
    }
   ],
   "source": [
    "import numpy as np\n",
    "import cvxpy as cp\n",
    "\n",
    "def a():\n",
    "    x = cp.Variable()\n",
    "    y = cp.Variable()\n",
    "    obj = cp.Minimize(0)\n",
    "    constraints = [cp.norm(cp.vstack([x + 2 * y, x - y])) == 0]\n",
    "    problem = cp.Problem(obj, constraints)\n",
    "    print(f\"a before: {problem.is_dcp()}\")\n",
    "\n",
    "    constraints = [cp.norm(cp.vstack([x + 2 * y, x - y])) <= 0]\n",
    "    problem = cp.Problem(obj, constraints)\n",
    "    print(f\"a after: {problem.is_dcp()}\")\n",
    "    problem.solve()\n",
    "\n",
    "def b():\n",
    "    x = cp.Variable()\n",
    "    y = cp.Variable()\n",
    "    obj = cp.Minimize(0)\n",
    "    constraints = [cp.square(cp.square(x + y)) <= x - y]\n",
    "    problem = cp.Problem(obj, constraints)\n",
    "    print(f\"b before and after!: {problem.is_dcp()}\")\n",
    "    problem.solve()\n",
    "\n",
    "def c():\n",
    "    x = cp.Variable()\n",
    "    y = cp.Variable()\n",
    "    obj = cp.Minimize(0)\n",
    "    constraints = [x >= 0, y >= 0, 1/x + 1/y <=1]\n",
    "    problem = cp.Problem(obj, constraints)\n",
    "    print(f\"c before: {problem.is_dcp()}\")\n",
    "\n",
    "    x = cp.Variable(nonneg=True)\n",
    "    y = cp.Variable(nonneg=True)\n",
    "    obj = cp.Minimize(0)\n",
    "    constraints = [cp.inv_pos(x) + cp.inv_pos(y) <=1, x >= 0, y >= 0]\n",
    "    problem = cp.Problem(obj, constraints)\n",
    "    print(f\"c after: {problem.is_dcp()}\")\n",
    "    problem.solve()\n",
    "\n",
    "def d():\n",
    "    x = cp.Variable()\n",
    "    y = cp.Variable()\n",
    "    obj = cp.Minimize(0)\n",
    "    constraints = [\n",
    "            cp.norm(cp.vstack([cp.maximum(x, 1), cp.maximum(y, 2)])) <= 3 * x + y\n",
    "            ]\n",
    "    problem = cp.Problem(obj, constraints)\n",
    "    print(f\"d before: {problem.is_dcp()}\")\n",
    "\n",
    "    x = cp.Variable()\n",
    "    y = cp.Variable()\n",
    "    a = cp.Variable()\n",
    "    b = cp.Variable()\n",
    "    obj = cp.Minimize(0)\n",
    "    constraints = [\n",
    "            cp.norm(cp.vstack([a, b])) <= 3 * x + y,\n",
    "            a >= cp.maximum(x, 1),\n",
    "            b >= cp.maximum(y, 2),\n",
    "            ]\n",
    "    problem = cp.Problem(obj, constraints)\n",
    "    print(f\"d after: {problem.is_dcp()}\")\n",
    "    problem.solve()\n",
    "\n",
    "def e():\n",
    "    x = cp.Variable()\n",
    "    y = cp.Variable()\n",
    "    obj = cp.Minimize(0)\n",
    "    constraints = [\n",
    "            x * y >= 1,\n",
    "            x >= 0,\n",
    "            y >= 0\n",
    "            ]\n",
    "    problem = cp.Problem(obj, constraints)\n",
    "    print(f\"e before: {problem.is_dcp()}\")\n",
    "\n",
    "    x = cp.Variable()\n",
    "    y = cp.Variable()\n",
    "    obj = cp.Minimize(0)\n",
    "    constraints = [\n",
    "            cp.inv_pos(y) - x <= 1,\n",
    "            x >= 0,\n",
    "            ]\n",
    "    problem = cp.Problem(obj, constraints)\n",
    "    print(f\"e after: {problem.is_dcp()}\")\n",
    "    problem.solve()\n",
    "\n",
    "def f():\n",
    "    x = cp.Variable()\n",
    "    y = cp.Variable()\n",
    "    obj = cp.Minimize(x)\n",
    "    constraints = [\n",
    "            (x + y)**2 / cp.sqrt(y) <= x - y + 5\n",
    "            ]\n",
    "    problem = cp.Problem(obj, constraints)\n",
    "    print(f\"f before: {problem.is_dcp()}\")\n",
    "\n",
    "    x = cp.Variable()\n",
    "    y = cp.Variable()\n",
    "    a = cp.Variable()\n",
    "    b = cp.Variable()\n",
    "    obj = cp.Minimize(x)\n",
    "    constraints = [\n",
    "            cp.quad_over_lin(a, b) <= x - y + 5,\n",
    "            a == x + y,\n",
    "            b <= cp.sqrt(y),\n",
    "            ]\n",
    "    problem = cp.Problem(obj, constraints)\n",
    "    print(f\"f after: {problem.is_dcp()}\")\n",
    "    problem.solve()\n",
    "\n",
    "def g():\n",
    "    x = cp.Variable()\n",
    "    y = cp.Variable()\n",
    "    obj = cp.Minimize(x)\n",
    "    constraints = [\n",
    "            x**3 + y**3 <= 1,\n",
    "            ]\n",
    "    problem = cp.Problem(obj, constraints)\n",
    "    print(f\"g before: {problem.is_dcp()}\")\n",
    "    problem.solve()\n",
    "    print(f\"g solution: {x.value:.2f}\")\n",
    "\n",
    "def h():\n",
    "    x = cp.Variable()\n",
    "    y = cp.Variable()\n",
    "    z = cp.Variable()\n",
    "    obj = cp.Minimize(0)\n",
    "    constraints = [\n",
    "            x + z <= 1 + cp.sqrt(x * y - z**2),\n",
    "            x >= 0,\n",
    "            y >= 0,\n",
    "            ]\n",
    "    problem = cp.Problem(obj, constraints)\n",
    "    print(f\"h before: {problem.is_dcp()}\")\n",
    "   \n",
    "    t = cp.Variable()\n",
    "    constraints = [\n",
    "            x + z - 1 <= t,\n",
    "            cp.norm(cp.vstack([x, t])) <= cp.geo_mean(cp.vstack([x, y])),\n",
    "            x >= 0,\n",
    "            y >= 0,\n",
    "            ]\n",
    "    problem = cp.Problem(obj, constraints)\n",
    "    print(f\"h after: {problem.is_dcp()}\")\n",
    "    problem.solve()\n",
    "\n",
    "a()\n",
    "b()\n",
    "c()\n",
    "d()\n",
    "e()\n",
    "f()\n",
    "g()\n",
    "h()"
   ]
  },
  {
   "cell_type": "markdown",
   "metadata": {},
   "source": [
    "# 3 (3.32)"
   ]
  },
  {
   "cell_type": "code",
   "execution_count": 8,
   "metadata": {},
   "outputs": [],
   "source": [
    "%reset -f"
   ]
  },
  {
   "cell_type": "code",
   "execution_count": 9,
   "metadata": {},
   "outputs": [
    {
     "name": "stdout",
     "output_type": "stream",
     "text": [
      "lambda: 282.9845\n",
      "objective value: -8.4545\n",
      "satisfied count: 66\n",
      "Improved objective value: -8.8011\n"
     ]
    }
   ],
   "source": [
    "import numpy as np\n",
    "import cvxpy as cp\n",
    "\n",
    "from satisfy_some_constraints_data import m, n, k, A, b, c\n",
    "epsilon = 1e-5\n",
    "\n",
    "u = cp.Variable()\n",
    "v = cp.Variable()\n",
    "x = cp.Variable((A.shape[1],))\n",
    "f_x = A @ x - b\n",
    "constraints = [\n",
    "        cp.sum(cp.pos(f_x + u)) <= (m - k) * u,\n",
    "        cp.inv_pos(v) <= u,\n",
    "        ]\n",
    "obj = cp.Minimize(c @ x)\n",
    "p1 = cp.Problem(obj, constraints)\n",
    "p1.solve()\n",
    "if p1.status == 'optimal':\n",
    "    lambda_value = 1 / u.value\n",
    "    print(f'lambda: {lambda_value:.4f}')\n",
    "    print(f'objective value: {p1.value:.4f}')\n",
    "    f_values = np.matmul(A, x.value) - b\n",
    "    satisfied = f_values <= epsilon\n",
    "    satisfied_count = satisfied.sum()\n",
    "    print(f\"satisfied count: {satisfied_count}\")\n",
    "    #part b\n",
    "    smallest_indexes = np.argsort(f_values)[:k]\n",
    "    constraints = [A[smallest_indexes,:] @ x <= b[smallest_indexes]]\n",
    "    p2 = cp.Problem(obj, constraints) \n",
    "    p2.solve()\n",
    "    print(f'Improved objective value: {p2.value:.4f}')\n"
   ]
  },
  {
   "cell_type": "markdown",
   "metadata": {},
   "source": [
    "# 5 (6.5)"
   ]
  },
  {
   "cell_type": "code",
   "execution_count": 10,
   "metadata": {},
   "outputs": [],
   "source": [
    "%reset -f"
   ]
  },
  {
   "cell_type": "code",
   "execution_count": 11,
   "metadata": {},
   "outputs": [
    {
     "name": "stdout",
     "output_type": "stream",
     "text": [
      "problem status: optimal\n",
      "x = [ 0.482 -0.465  0.936  0.929]\n"
     ]
    },
    {
     "data": {
      "image/png": "[encoded data removed]",
      "text/plain": [
       "<Figure size 432x288 with 1 Axes>"
      ]
     },
     "metadata": {
      "needs_background": "light"
     },
     "output_type": "display_data"
    }
   ],
   "source": [
    "import numpy as np\n",
    "import cvxpy as cp\n",
    "import matplotlib.pyplot as plt\n",
    "\n",
    "from nonlin_meas_data import m, n, sigma, alpha, beta, A, y\n",
    "np.set_printoptions(precision=3)\n",
    "\n",
    "EPSILON = 1e-8\n",
    "#Verifying that the data is sorted\n",
    "for i in range(m - 1):\n",
    "    assert y[i] < y[i + 1] + EPSILON\n",
    "\n",
    "z = cp.Variable(m)\n",
    "x = cp.Variable(n)\n",
    "next_diff_z = z[1:] - z[:-1]\n",
    "next_diff_y = y[1:] - y[:-1]\n",
    "constraints = [\n",
    "        next_diff_z <= next_diff_y / alpha,\n",
    "        next_diff_z >= next_diff_y / beta,\n",
    "        ]\n",
    "obj = cp.Minimize(cp.sum_squares(A @ x - z))\n",
    "problem = cp.Problem(obj, constraints)\n",
    "problem.solve()\n",
    "print(f\"problem status: {problem.status}\")\n",
    "if problem.status == 'optimal':\n",
    "    print(f\"x = {x.value}\")\n",
    "    plt.plot(y, z.value)\n",
    "    plt.show()\n"
   ]
  },
  {
   "cell_type": "code",
   "execution_count": null,
   "metadata": {},
   "outputs": [],
   "source": []
  }
 ],
 "metadata": {
  "kernelspec": {
   "display_name": "Python 3",
   "language": "python",
   "name": "python3"
  },
  "language_info": {
   "codemirror_mode": {
    "name": "ipython",
    "version": 3
   },
   "file_extension": ".py",
   "mimetype": "text/x-python",
   "name": "python",
   "nbconvert_exporter": "python",
   "pygments_lexer": "ipython3",
   "version": "3.8.2"
  }
 },
 "nbformat": 4,
 "nbformat_minor": 2
}
