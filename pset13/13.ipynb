{
 "cells": [
  {
   "cell_type": "markdown",
   "metadata": {},
   "source": [
    "# 2"
   ]
  },
  {
   "cell_type": "code",
   "execution_count": 2,
   "metadata": {},
   "outputs": [
    {
     "name": "stdout",
     "output_type": "stream",
     "text": [
      "best value: 24.0000\n",
      "best s: [413.21  73.58 413.21 200.     0.   300.     0.   300.     0.   600.  ]\n",
      "N_s = 0.0000, N_l=121.3333\n",
      "24.000000013763028 1\n",
      "24.266666684548067 2\n",
      "78.00000001564204 0\n",
      "n_s: 192.2190, n_l: 145.8213\n",
      "Dumb cost = 86.8300\n"
     ]
    }
   ],
   "source": [
    "import numpy as np\n",
    "import cvxpy as cp\n",
    "\n",
    "def main():\n",
    "    np.set_printoptions(precision=2, suppress=True)\n",
    "    b = np.array([400, 80, 400, 200, 400, 400, 80, 400, 100, 500])\n",
    "    v = np.array([500, 100, 500, 200, 700, 300, 120, 300, 150, 600])\n",
    "    n = 10\n",
    "    L = 4\n",
    "    rho_l = 0.2\n",
    "    rho_s = 0.3\n",
    "    rates = (v - b) / v\n",
    "    C = 2300\n",
    "\n",
    "    s = cp.Variable(n)\n",
    "    g = cp.multiply(s, rates)\n",
    "    N_l = cp.sum(g[:L])\n",
    "    N_s = cp.sum(g[L:])\n",
    "    constraints = [\n",
    "            s >= 0,\n",
    "            s <= v,\n",
    "            cp.sum(s) == C,\n",
    "            N_l <= 0,\n",
    "            N_s <= 0,\n",
    "            ]\n",
    "    obj = cp.Minimize(0)\n",
    "    problem = cp.Problem(obj, constraints)\n",
    "    problem.solve()\n",
    "    if problem.status != 'infeasible':\n",
    "        print(f\"optimal value: {problem.value}\")\n",
    "        print(f\"optimal s: {s.value}\")\n",
    "        return\n",
    "    li = []\n",
    "    #i = 0: N_l <= 0\n",
    "    for i in range(2):\n",
    "        constraints = [\n",
    "                s >= 0,\n",
    "                s <= v,\n",
    "                cp.sum(s) == C,\n",
    "                (N_l if i == 0 else N_s) <= 0,\n",
    "                ]\n",
    "        rho = rho_s if i == 0 else rho_l\n",
    "        obj = cp.Minimize(rho_s * cp.pos(N_s + N_l))\n",
    "        problem = cp.Problem(obj, constraints)\n",
    "        problem.solve()\n",
    "        if problem.status == 'optimal':\n",
    "            li.append((problem.status, problem.value, s.value, i))\n",
    "\n",
    "    i = 2\n",
    "    constraints = [\n",
    "            s >= 0,\n",
    "            s <= v,\n",
    "            cp.sum(s) == C,\n",
    "            N_l >= 0,\n",
    "            N_s >= 0,\n",
    "            ]\n",
    "    obj = cp.Minimize(rho_s * N_s + rho_l * N_l)\n",
    "    problem = cp.Problem(obj, constraints)\n",
    "    problem.solve()\n",
    "    if problem.status == 'optimal':\n",
    "        li.append((problem.status, problem.value, s.value, i))\n",
    "    li.sort(key=lambda x: x[1])\n",
    "    best_value = li[0][1]\n",
    "    best_s = li[0][2]\n",
    "    print(f\"best value: {best_value:.4f}\")\n",
    "    print(f\"best s: {best_s}\")\n",
    "    print(f\"N_s = {N_s.value:.4f}, N_l={N_l.value:.4f}\")\n",
    "    print(li[0][1], li[0][-1])\n",
    "    print(li[1][1], li[1][-1])\n",
    "    print(li[2][1], li[2][-1])\n",
    "    dumb_s = C / np.sum(v) * v\n",
    "    g = dumb_s * rates\n",
    "    n_l = np.sum(g[:L])\n",
    "    n_s = np.sum(g[L:])\n",
    "    print(f\"n_s: {n_s:.4f}, n_l: {n_l:.4f}\")\n",
    "    #we know it's positive\n",
    "    print(f\"Dumb cost = {rho_s * n_s + rho_l * n_l :.4f}\")\n",
    "\n",
    "main()\n"
   ]
  },
  {
   "cell_type": "markdown",
   "metadata": {},
   "source": [
    "# 5"
   ]
  },
  {
   "cell_type": "code",
   "execution_count": 3,
   "metadata": {},
   "outputs": [],
   "source": [
    "import numpy as np\n",
    "import cvxpy as cp\n",
    "import matplotlib.pyplot as plt\n",
    "\n",
    "from data.storage_tradeoff_data import T, t, p, u\n",
    "p = p.reshape(T)\n",
    "u = u.reshape(T)\n",
    "\n",
    "def solve(Q, C, D):\n",
    "    q1 = cp.Variable(1)\n",
    "    c = cp.Variable(T)\n",
    "    q = cp.hstack([q1, cp.cumsum(c)[:-1]])\n",
    "\n",
    "    constraints = [\n",
    "            q <= Q,\n",
    "            q >= 0,\n",
    "            c <= C,\n",
    "            c >= -D,\n",
    "            q[-1] + c[-1] == q[0],\n",
    "            u + c >= 0,\n",
    "            ]\n",
    "\n",
    "    obj = cp.Minimize(p @ (u + c))\n",
    "    problem = cp.Problem(obj, constraints)\n",
    "    problem.solve()\n",
    "    return q.value, c.value, problem.value\n",
    "\n",
    "def kplot(t, p, u, q, c):\n",
    "    plt.plot(t, p, 'g')\n",
    "    plt.plot(t, u, 'r')\n",
    "    plt.plot(t, q, 'b')\n",
    "    plt.plot(t, c, 'y')\n",
    "    plt.show()\n",
    "\n",
    "def partb():\n",
    "    Q = 35\n",
    "    C = 3\n",
    "    D = 3\n",
    "    q, c, _ = solve(Q, D, C)\n",
    "    kplot(t, p, u, q, c)\n",
    "\n",
    "def partc():\n",
    "    n = 150\n",
    "#    Qs = np.linspace(0, 150, n)\n",
    "    Qs = np.arange(n)\n",
    "    for i, cd_limit in enumerate([1, 3]):\n",
    "        C = cd_limit\n",
    "        D = cd_limit\n",
    "        cost = np.vectorize(lambda Q: solve(Q, C, D)[-1])(Qs)\n",
    "        color = 'r' if i == 0 else 'g'\n",
    "        plt.plot(Qs, cost, color)\n",
    "#         plt.axvline(x=T/2 * cd_limit, color=color, linestyle='--')\n",
    "    plt.show()"
   ]
  },
  {
   "cell_type": "markdown",
   "metadata": {},
   "source": [
    "## Part b: "
   ]
  },
  {
   "cell_type": "code",
   "execution_count": 4,
   "metadata": {},
   "outputs": [
    {
     "data": {
      "image/png": "[encoded data removed]",
      "text/plain": [
       "<Figure size 432x288 with 1 Axes>"
      ]
     },
     "metadata": {
      "needs_background": "light"
     },
     "output_type": "display_data"
    }
   ],
   "source": [
    "partb()"
   ]
  },
  {
   "cell_type": "markdown",
   "metadata": {},
   "source": [
    "## Part c:"
   ]
  },
  {
   "cell_type": "code",
   "execution_count": 5,
   "metadata": {},
   "outputs": [
    {
     "data": {
      "image/png": "[encoded data removed]",
      "text/plain": [
       "<Figure size 432x288 with 1 Axes>"
      ]
     },
     "metadata": {
      "needs_background": "light"
     },
     "output_type": "display_data"
    },
    {
     "name": "stdout",
     "output_type": "stream",
     "text": [
      "Total time: 10.643439054489136\n"
     ]
    }
   ],
   "source": [
    "import time\n",
    "t0 = time.time()\n",
    "partc()\n",
    "t1 = time.time()\n",
    "total_time = t1 - t0\n",
    "print(f\"Total time: {total_time}\")"
   ]
  },
  {
   "cell_type": "markdown",
   "metadata": {},
   "source": [
    "## The interpertation is in the pdf file"
   ]
  },
  {
   "cell_type": "code",
   "execution_count": null,
   "metadata": {},
   "outputs": [],
   "source": []
  }
 ],
 "metadata": {
  "kernelspec": {
   "display_name": "Python 3",
   "language": "python",
   "name": "python3"
  },
  "language_info": {
   "codemirror_mode": {
    "name": "ipython",
    "version": 3
   },
   "file_extension": ".py",
   "mimetype": "text/x-python",
   "name": "python",
   "nbconvert_exporter": "python",
   "pygments_lexer": "ipython3",
   "version": "3.8.2"
  }
 },
 "nbformat": 4,
 "nbformat_minor": 2
}
