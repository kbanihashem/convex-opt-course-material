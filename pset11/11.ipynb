{
 "cells": [
  {
   "cell_type": "markdown",
   "metadata": {},
   "source": [
    "##### Please refer to the pdf file for explanation of evertything\n",
    "##### While the codes are commented, they are not explained"
   ]
  },
  {
   "cell_type": "markdown",
   "metadata": {},
   "source": [
    "# Q1 (3-18)"
   ]
  },
  {
   "cell_type": "code",
   "execution_count": 1,
   "metadata": {},
   "outputs": [],
   "source": [
    "%reset -f"
   ]
  },
  {
   "cell_type": "code",
   "execution_count": 2,
   "metadata": {},
   "outputs": [
    {
     "name": "stdout",
     "output_type": "stream",
     "text": [
      "relaxed objective: -34.4172\n",
      "best t_index: 56, t: 0.56\n",
      "Upper bound: -33.5773, lower bound: -34.4172, U - L: 0.8400, frac: 102.50 %\n"
     ]
    },
    {
     "data": {
      "image/png": "[encoded data removed]",
      "text/plain": [
       "<Figure size 432x288 with 1 Axes>"
      ]
     },
     "metadata": {
      "needs_background": "light"
     },
     "output_type": "display_data"
    },
    {
     "data": {
      "image/png": "[encoded data removed]",
      "text/plain": [
       "<Figure size 432x288 with 1 Axes>"
      ]
     },
     "metadata": {
      "needs_background": "light"
     },
     "output_type": "display_data"
    }
   ],
   "source": [
    "import numpy as np\n",
    "import cvxpy as cp\n",
    "import matplotlib.pyplot as plt\n",
    "\n",
    "np.random.seed(0)\n",
    "(m, n) = (300, 100)\n",
    "\n",
    "A = np.random.rand(m, n)\n",
    "b = A.dot(np.ones(n))/2\n",
    "c = -np.random.rand(n)\n",
    "x = cp.Variable(n)\n",
    "relaxed_obj = cp.Minimize(c @ x)\n",
    "constraints = [\n",
    "        A @ x <= b,\n",
    "        x >= 0,\n",
    "        x <= 1,\n",
    "        ]\n",
    "problem = cp.Problem(relaxed_obj, constraints)\n",
    "problem.solve()\n",
    "lower_bound = problem.value\n",
    "print(f\"relaxed objective: {lower_bound:.4f}\")\n",
    "\n",
    "t_count = 101\n",
    "t_values = np.linspace(0, 1, t_count)\n",
    "obj_value = np.zeros(t_count)\n",
    "maximum_violation = np.zeros(t_count)\n",
    "\n",
    "for i, t in enumerate(t_values):\n",
    "    new_x = (x.value > t).astype(int)\n",
    "    obj_value[i] = np.dot(c, new_x)\n",
    "    maximum_violation[i] = np.max(np.matmul(A, new_x) - b)\n",
    "\n",
    "good_indexes = np.arange(t_count)[maximum_violation <= 0]\n",
    "best_t_index = good_indexes[np.argmin(obj_value[good_indexes])]\n",
    "print(f\"best t_index: {best_t_index}, t: {t_values[best_t_index]}\")\n",
    "upper_bound = obj_value[best_t_index]\n",
    "U_minus_L = upper_bound - lower_bound\n",
    "frac = lower_bound / upper_bound\n",
    "print(f\"Upper bound: {upper_bound:.4f}, lower bound: {lower_bound:.4f}, U - L: {U_minus_L:.4f}, frac: {(frac * 100):.2f} %\")\n",
    "\n",
    "feasible = maximum_violation <= 0\n",
    "plt.plot(t_values[feasible], obj_value[feasible], color='green')\n",
    "plt.plot(t_values[~feasible], obj_value[~feasible], color='red')\n",
    "plt.show()\n",
    "plt.plot(t_values[feasible], maximum_violation[feasible], color='green')\n",
    "plt.plot(t_values[~feasible], maximum_violation[~feasible], color='red')\n",
    "plt.show()"
   ]
  },
  {
   "cell_type": "markdown",
   "metadata": {},
   "source": [
    "# Q2(3.20)"
   ]
  },
  {
   "cell_type": "code",
   "execution_count": 3,
   "metadata": {},
   "outputs": [],
   "source": [
    "%reset -f"
   ]
  },
  {
   "cell_type": "code",
   "execution_count": 4,
   "metadata": {},
   "outputs": [
    {
     "name": "stdout",
     "output_type": "stream",
     "text": [
      "status: optimal\n",
      "Total fuel: 2617.825193521739\n"
     ]
    },
    {
     "data": {
      "image/png": "[encoded data removed]",
      "text/plain": [
       "<Figure size 432x288 with 1 Axes>"
      ]
     },
     "metadata": {
      "needs_background": "light"
     },
     "output_type": "display_data"
    }
   ],
   "source": [
    "import numpy as np\n",
    "import cvxpy as cp\n",
    "import matplotlib.pyplot as plt\n",
    "\n",
    "from veh_speed_sched_data import n, a, b, c, d, smin, smax, tau_min, tau_max\n",
    "#fixing data\n",
    "d = np.asarray(d)\n",
    "smin = np.asarray(smin)\n",
    "smax = np.asarray(smax)\n",
    "tau_min = np.asarray(tau_min)\n",
    "tau_max = np.asarray(tau_max)\n",
    "\n",
    "d = d[:,0]\n",
    "smin = smin[:,0]\n",
    "smax = smax[:,0]\n",
    "tau_min = tau_min[:,0]\n",
    "tau_max = tau_max[:,0]\n",
    "\n",
    "k = cp.Variable(n)\n",
    "h = cp.cumsum(k)\n",
    "phi = a * cp.multiply(cp.inv_pos(k), d**2) + c * k + cp.multiply(b, d)\n",
    "obj = cp.Minimize(cp.sum(phi))\n",
    "constraints = [\n",
    "        cp.multiply(smin, k) <= d,\n",
    "        cp.multiply(smax, k) >= d,\n",
    "        tau_min <= h,\n",
    "        tau_max >= h,\n",
    "        ]\n",
    "problem = cp.Problem(obj, constraints)\n",
    "problem.solve()\n",
    "print(f\"status: {problem.status}\")\n",
    "if problem.status == 'optimal':\n",
    "    print(f\"Total fuel: {problem.value}\")\n",
    "    s = d / k.value\n",
    "    plt.step(np.arange(n), s)\n",
    "    plt.show()"
   ]
  },
  {
   "cell_type": "markdown",
   "metadata": {},
   "source": [
    "# Q4 (3.28)"
   ]
  },
  {
   "cell_type": "code",
   "execution_count": 5,
   "metadata": {},
   "outputs": [],
   "source": [
    "%reset -f"
   ]
  },
  {
   "cell_type": "code",
   "execution_count": 6,
   "metadata": {},
   "outputs": [
    {
     "name": "stdout",
     "output_type": "stream",
     "text": [
      "minimum X_4: 0.48\n",
      "maximum X_4: 0.61\n"
     ]
    }
   ],
   "source": [
    "import numpy as np\n",
    "import cvxpy as cp\n",
    "import matplotlib.pyplot as plt\n",
    "from functools import reduce\n",
    "from operator import add\n",
    "\n",
    "#ci is short for convert index\n",
    "def convert_index(*args):\n",
    "    return reduce(lambda x, y: x * 2 + y, args)\n",
    "\n",
    "all_tuples = [(i, j, k, l) for i in range(2) for j in range(2) for k in range(2) for l in range(2)]\n",
    "def get_prob(p=None, i=None, j=None, k=None, l=None):\n",
    "    def is_fine(i0, j0, k0, l0):\n",
    "        a = [i, j, k, l]\n",
    "        b = [i0, j0, k0, l0]\n",
    "        return all(i == ip or i is None for i, ip in zip(a, b))\n",
    "    return reduce(add, [p[convert_index(i, j, k, l)] for i, j, k, l in all_tuples if is_fine(i, j, k, l)])\n",
    "\n",
    "p = cp.Variable(16)\n",
    "constraints = [\n",
    "        get_prob(p) == 1,\n",
    "        get_prob(p, i=1) == 0.9,\n",
    "        get_prob(p, j=1) == 0.9,\n",
    "        get_prob(p, k=1) == 0.1,\n",
    "        get_prob(p, i=1, l=0, k=1) == 0.7 * get_prob(p, k=1),\n",
    "        get_prob(p, l=1, j=1, k=0) == 0.6 * get_prob(p, j=1, k=0),\n",
    "        p >= 0,\n",
    "        ]\n",
    "obj1 = cp.Minimize(get_prob(p, l=1))\n",
    "obj2 = cp.Maximize(get_prob(p, l=1))\n",
    "p1 = cp.Problem(obj1, constraints)\n",
    "p2 = cp.Problem(obj2, constraints)\n",
    "p1.solve()\n",
    "p2.solve()\n",
    "\n",
    "print(f\"minimum X_4: {p1.value:.2f}\")\n",
    "print(f\"maximum X_4: {p2.value:.2f}\")"
   ]
  },
  {
   "cell_type": "markdown",
   "metadata": {},
   "source": [
    "# Q5(4.1)"
   ]
  },
  {
   "cell_type": "code",
   "execution_count": 7,
   "metadata": {},
   "outputs": [],
   "source": [
    "%reset -f"
   ]
  },
  {
   "cell_type": "markdown",
   "metadata": {},
   "source": [
    "## Part A"
   ]
  },
  {
   "cell_type": "code",
   "execution_count": 8,
   "metadata": {},
   "outputs": [
    {
     "name": "stdout",
     "output_type": "stream",
     "text": [
      "Optimal value: 8.2222\n",
      "Optimal x: [-2.333  0.167]\n",
      "Optimal lambda: [2.748 2.885 0.04 ]\n",
      "Verifying KKT\n",
      "Going by the order in page 244 of the book\n",
      "condition f_i(x_bar) <= 0 verified\n",
      "condition lambda >= 0 verified\n",
      "condition lambda_bar * f_i(x_bar) = 0 verified\n",
      "condition Gradient condition verified\n"
     ]
    }
   ],
   "source": [
    "import numpy as np\n",
    "import cvxpy as cp\n",
    "import matplotlib.pyplot as plt\n",
    "from functools import reduce\n",
    "EPSILON = 1e-8\n",
    "#verifies a condition or a vector of conditions\n",
    "def verify(condition, text=\" \", indentaion=0):\n",
    "    if np.all(condition):\n",
    "        print(f\"{' ' * 8 * indentaion}condition {text} verified\")\n",
    "    else:\n",
    "        print(f\"{' ' * 8 * indentaion}condition {text} violated\")\n",
    "#verifies that a value is zero\n",
    "def verify_zero(value, *args, **kwargs):\n",
    "    verify(np.abs(value) <= 0 + EPSILON, *args, **kwargs)\n",
    "\n",
    "#solving original problem\n",
    "perturb = (0, 0)\n",
    "u1, u2 = -2 + perturb[0], -3 + perturb[1]\n",
    "P = np.array([[1, -1/2], [-1/2, 2]])\n",
    "q = np.array([-1, 0])\n",
    "A = np.array([[1, 2], [1, -4], [5, 76]])\n",
    "b = np.array([u1, u2, 1])\n",
    "x = cp.Variable(2)\n",
    "\n",
    "obj = cp.Minimize(cp.quad_form(x, P) + q @ x)\n",
    "constraints = [\n",
    "        A @ x <= b,\n",
    "        ]\n",
    "problem = cp.Problem(obj, constraints)\n",
    "problem.solve()\n",
    "\n",
    "#just checking everthing is fine\n",
    "assert problem.status == 'optimal'\n",
    "\n",
    "np.set_printoptions(precision=3)\n",
    "print(f\"Optimal value: {problem.value:.4f}\")\n",
    "print(f\"Optimal x: {x.value}\")\n",
    "print(f\"Optimal lambda: {constraints[0].dual_value}\")\n",
    "print(\"Verifying KKT\")\n",
    "print(\"Going by the order in page 244 of the book\")\n",
    "x_bar = x.value\n",
    "lambda_bar = constraints[0].dual_value\n",
    "verify(np.dot(A, x_bar) - b <= 0 + EPSILON, \"f_i(x_bar) <= 0\")\n",
    "verify(lambda_bar >= EPSILON, \"lambda >= 0\")\n",
    "verify_zero((np.dot(A, x_bar) - b) * lambda_bar, \"lambda_bar * f_i(x_bar) = 0\")\n",
    "verify_zero(2 * P.dot(x_bar) + q + lambda_bar.dot(A), \"Gradient condition\")\n",
    "\n"
   ]
  },
  {
   "cell_type": "markdown",
   "metadata": {},
   "source": [
    "## Part b"
   ]
  },
  {
   "cell_type": "code",
   "execution_count": 9,
   "metadata": {},
   "outputs": [
    {
     "name": "stdout",
     "output_type": "stream",
     "text": [
      "perturb = (0, 0)\n",
      "\tp_pred: 8.2222\n",
      "\tp_exact = 8.2222\n",
      "        condition pred < exact verified\n",
      "perturb = (0, -0.1)\n",
      "\tp_pred: 8.5107\n",
      "\tp_exact = 8.7064\n",
      "        condition pred < exact verified\n",
      "perturb = (0, 0.1)\n",
      "\tp_pred: 7.9337\n",
      "\tp_exact = 7.9800\n",
      "        condition pred < exact verified\n",
      "perturb = (-0.1, 0)\n",
      "\tp_pred: 8.4970\n",
      "\tp_exact = 8.5650\n",
      "        condition pred < exact verified\n",
      "perturb = (-0.1, -0.1)\n",
      "\tp_pred: 8.7855\n",
      "\tp_exact = 8.8156\n",
      "        condition pred < exact verified\n",
      "perturb = (-0.1, 0.1)\n",
      "\tp_pred: 8.2085\n",
      "\tp_exact = 8.3189\n",
      "        condition pred < exact verified\n",
      "perturb = (0.1, 0)\n",
      "\tp_pred: 7.9474\n",
      "\tp_exact = 8.2222\n",
      "        condition pred < exact verified\n",
      "perturb = (0.1, -0.1)\n",
      "\tp_pred: 8.2360\n",
      "\tp_exact = 8.7064\n",
      "        condition pred < exact verified\n",
      "perturb = (0.1, 0.1)\n",
      "\tp_pred: 7.6589\n",
      "\tp_exact = 7.7515\n",
      "        condition pred < exact verified\n"
     ]
    }
   ],
   "source": [
    "original_value = problem.value\n",
    "original_lambda_star = constraints[0].dual_value\n",
    "li = [0, -0.1, 0.1]\n",
    "possible_deltas = [(x, y) for x in li for y in li]\n",
    "for perturb in possible_deltas:\n",
    "    #calculatin pred\n",
    "    pred = original_value - original_lambda_star[:2].dot(np.array([*perturb]))\n",
    "    print(f\"perturb = {perturb}\")\n",
    "    print(f\"\\tp_pred: {pred:.4f}\")\n",
    "    #exact\n",
    "    u1, u2 = -2 + perturb[0], -3 + perturb[1]\n",
    "    P = np.array([[1, -1/2], [-1/2, 2]])\n",
    "    q = np.array([-1, 0])\n",
    "    A = np.array([[1, 2], [1, -4], [5, 76]])\n",
    "    b = np.array([u1, u2, 1])\n",
    "    x = cp.Variable(2)\n",
    "\n",
    "    obj = cp.Minimize(cp.quad_form(x, P) + q @ x)\n",
    "    constraints = [\n",
    "            A @ x <= b,\n",
    "            ]\n",
    "    problem = cp.Problem(obj, constraints)\n",
    "    problem.solve()\n",
    "    if problem.status != 'optimal':\n",
    "        print(f\"\\tcould'nt solve! status={problem.status}\")\n",
    "    else:\n",
    "        print(f\"\\tp_exact = {problem.value:.4f}\")\n",
    "    verify(pred <= problem.value + EPSILON, \"pred < exact\", indentaion=1)"
   ]
  },
  {
   "cell_type": "code",
   "execution_count": null,
   "metadata": {},
   "outputs": [],
   "source": []
  }
 ],
 "metadata": {
  "kernelspec": {
   "display_name": "Python 3",
   "language": "python",
   "name": "python3"
  },
  "language_info": {
   "codemirror_mode": {
    "name": "ipython",
    "version": 3
   },
   "file_extension": ".py",
   "mimetype": "text/x-python",
   "name": "python",
   "nbconvert_exporter": "python",
   "pygments_lexer": "ipython3",
   "version": "3.8.2"
  }
 },
 "nbformat": 4,
 "nbformat_minor": 2
}
