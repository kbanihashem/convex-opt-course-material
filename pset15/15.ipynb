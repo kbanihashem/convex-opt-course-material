{
 "cells": [
  {
   "cell_type": "markdown",
   "metadata": {},
   "source": [
    "# 1"
   ]
  },
  {
   "cell_type": "code",
   "execution_count": 1,
   "metadata": {},
   "outputs": [
    {
     "name": "stdout",
     "output_type": "stream",
     "text": [
      "||x_unif - x_true||_2 = 2.2683660401079084\n",
      "||x_smart - x_true||_2 = 0.08649825909363662\n",
      "our estimate of permutated indexes = [0, 2, 4, 8, 10, 11, 14, 17, 23, 26, 29, 31, 32, 33, 36, 40, 48, 51, 52, 54, 55, 57, 58, 59, 62, 64, 68, 70, 73, 75, 76, 79, 80, 81, 83, 88, 94, 95, 96, 97]\n",
      "real permutated indexes = [0, 2, 4, 8, 10, 11, 14, 17, 23, 26, 29, 31, 32, 33, 36, 40, 48, 51, 52, 54, 55, 57, 58, 59, 62, 64, 68, 70, 73, 75, 76, 79, 80, 81, 83, 88, 94, 95, 96, 97]\n",
      "got 40/40 correct\n"
     ]
    }
   ],
   "source": [
    "import numpy as np\n",
    "import cvxpy as cp\n",
    "from data.ls_perm_meas_data import m, k, n, A, y, x_true, P\n",
    "K_P = P\n",
    "del P\n",
    "x_true = np.reshape(x_true, n)\n",
    "y = np.reshape(y, m)\n",
    "np.set_printoptions(suppress=True)\n",
    "\n",
    "def get_error(y, y_hat):\n",
    "    return np.sum((y - y_hat)**2)\n",
    "\n",
    "before = []\n",
    "after = []\n",
    "\n",
    "bad_indexes = set()\n",
    "max_iter = 10\n",
    "for iteration in range(max_iter):\n",
    "    mask = np.array([i not in bad_indexes for i in range(m)])\n",
    "    x = cp.Variable(n)\n",
    "    y_hat = A @ x\n",
    "    error = (y_hat - y)**2\n",
    "    obj = cp.Minimize(cp.sum(error[mask]))\n",
    "    problem = cp.Problem(obj, [])\n",
    "    problem.solve()\n",
    "    #x is uniform the first time!\n",
    "    if iteration == 0:\n",
    "        x_unif = x.value\n",
    "    bad_indexes = np.argsort(-error.value)[:k]\n",
    "    bad_indexes_set = set(bad_indexes)\n",
    "\n",
    "y_hat_bad_indexs_sorted_index = np.argsort(y_hat.value[bad_indexes])\n",
    "y_true_bad_indexs_sorted_index = np.argsort(y[bad_indexes])\n",
    "permuation = np.arange(m)\n",
    "for i in range(k):\n",
    "    permuation[bad_indexes[y_true_bad_indexs_sorted_index[i]]] = bad_indexes[y_hat_bad_indexs_sorted_index[i]]\n",
    "\n",
    "P = np.zeros((m, m))\n",
    "P[np.arange(m), permuation] = 1\n",
    "\n",
    "x = cp.Variable(n)\n",
    "y_hat = A @ x\n",
    "error = (P @ y_hat - y)**2\n",
    "obj = cp.Minimize(cp.sum(error))\n",
    "problem = cp.Problem(obj, [])\n",
    "problem.solve()\n",
    "\n",
    "x_smart = x.value\n",
    "\n",
    "print(f\"||x_unif - x_true||_2 = {np.linalg.norm(x_unif - x_true)}\")\n",
    "print(f\"||x_smart - x_true||_2 = {np.linalg.norm(x_smart - x_true)}\")\n",
    "print(f\"our estimate of permutated indexes = {sorted(bad_indexes)}\")\n",
    "real_bad = [i for i in range(m) if abs(P[i,i] - 1) > 1/10]\n",
    "print(f\"real permutated indexes = {real_bad}\")\n",
    "correct_count = len(set(real_bad).intersection(bad_indexes_set))\n",
    "print(f\"got {correct_count}/{k} correct\")\n"
   ]
  },
  {
   "cell_type": "markdown",
   "metadata": {},
   "source": [
    "# 2"
   ]
  },
  {
   "cell_type": "code",
   "execution_count": 2,
   "metadata": {},
   "outputs": [
    {
     "name": "stdout",
     "output_type": "stream",
     "text": [
      "Optimal value:  0.405871932807939\n",
      "F: [[-1.303   3.6876  3.4561]\n",
      " [ 0.2112 -0.8965 -3.3609]\n",
      " [15.5272  7.3234 -9.1528]]\n"
     ]
    }
   ],
   "source": [
    "import numpy as np\n",
    "import cvxpy as cp\n",
    "np.set_printoptions(precision=4, suppress=True)\n",
    "\n",
    "n = 3\n",
    "G = np.array([\n",
    "    [0.3, -0.1, -0.9],\n",
    "    [-0.6, 0.3, -0.3],\n",
    "    [-0.3, 0.6, 0.2],\n",
    "    ])\n",
    "\n",
    "K = cp.Variable((n, n))\n",
    "Z = cp.Variable((n, n))\n",
    "constraints = [\n",
    "        np.identity(n) + G @ Z == K,\n",
    "        cp.norm(Z, axis=1) <= 1,\n",
    "        ]\n",
    "obj = cp.Minimize(cp.max(cp.norm(K, axis=1)))\n",
    "problem = cp.Problem(obj, constraints)\n",
    "problem.solve()\n",
    "print(\"Optimal value: \", problem.value)\n",
    "F = Z.value.dot(np.linalg.inv(K.value))\n",
    "print(f\"F: {F}\")\n"
   ]
  },
  {
   "cell_type": "markdown",
   "metadata": {},
   "source": [
    "# 3"
   ]
  },
  {
   "cell_type": "code",
   "execution_count": 19,
   "metadata": {},
   "outputs": [
    {
     "name": "stdout",
     "output_type": "stream",
     "text": [
      "starting experiment general\n",
      "problem.value: 213.26200390364056\n",
      "optimal f: [0.1865 0.0489 0.0455 0.0419 0.0381 0.0343 0.0305 0.0268 0.0234 0.0136\n",
      " 0.     0.     0.     0.     0.     0.     0.     0.     0.     0.\n",
      " 0.0186 0.0311 0.0344 0.038  0.0417 0.0455 0.0493 0.053  0.0566 0.0599\n",
      " 0.0628 0.0653 0.0674 0.0689 0.0699 0.0703 0.0702 0.0694 0.0681 0.0662\n",
      " 0.0639 0.0611 0.0579 0.0545 0.0508 0.047  0.0333 0.     0.     0.\n",
      " 0.    ]\n",
      "optimal speeds: [47.5745 47.5748 47.5748 47.5748 47.5748 47.5748 47.5749 47.5748 47.5746\n",
      " 46.7166 46.7146 47.0173 47.4987 48.0518 48.5892 49.0409 49.3524 49.4814\n",
      " 49.3961 49.0728 47.5754 47.5749 47.5749 47.575  47.5748 47.5749 47.575\n",
      " 47.5749 47.5748 47.5748 47.5748 47.5748 47.5748 47.5748 47.5748 47.5748\n",
      " 47.5748 47.5748 47.5748 47.5748 47.5748 47.5748 47.5748 47.5748 47.5748\n",
      " 47.5748 46.2894 41.0762 36.9221 33.8029 31.6519]\n"
     ]
    },
    {
     "data": {
      "image/png": "[encoded data removed]",
      "text/plain": [
       "<Figure size 432x288 with 1 Axes>"
      ]
     },
     "metadata": {
      "needs_background": "light"
     },
     "output_type": "display_data"
    },
    {
     "name": "stdout",
     "output_type": "stream",
     "text": [
      "starting experiment uniform\n",
      "problem.value: 258.47859278891224\n",
      "optimal f: [0.0384 0.0384 0.0384 0.0384 0.0384 0.0384 0.0384 0.0384 0.0384 0.0384\n",
      " 0.0384 0.0384 0.0384 0.0384 0.0384 0.0384 0.0384 0.0384 0.0384 0.0384\n",
      " 0.0384 0.0384 0.0384 0.0384 0.0384 0.0384 0.0384 0.0384 0.0384 0.0384\n",
      " 0.0384 0.0384 0.0384 0.0384 0.0384 0.0384 0.0384 0.0384 0.0384 0.0384\n",
      " 0.0384 0.0384 0.0384 0.0384 0.0384 0.0384 0.0384 0.0384 0.0384 0.0384\n",
      " 0.0384]\n",
      "optimal speeds: [21.5796 26.1383 30.0029 33.4585 36.6387 39.6093 42.4011 45.0253 47.4815\n",
      " 49.763  53.7161 56.9602 59.6418 61.8537 63.6573 65.0945 66.1953 66.982\n",
      " 67.4723 67.6812 65.2628 62.9584 60.7059 58.4563 56.1728 53.8296 51.4112\n",
      " 48.9112 46.332  43.6847 40.9892 38.275  35.5826 32.9652 30.4915 28.2472\n",
      " 26.335  24.8681 23.9547 23.6721 24.0419 25.0214 26.5175 28.4133 30.5922\n",
      " 32.9501 35.4    37.8706 40.3043 42.654  44.8811]\n"
     ]
    },
    {
     "data": {
      "image/png": "[encoded data removed]",
      "text/plain": [
       "<Figure size 432x288 with 1 Axes>"
      ]
     },
     "metadata": {
      "needs_background": "light"
     },
     "output_type": "display_data"
    }
   ],
   "source": [
    "import numpy as np\n",
    "import cvxpy as cp\n",
    "import matplotlib.pyplot as plt\n",
    "from data.min_time_speed_data import N, m, d, h, eta, C_D, P, F, g\n",
    "np.set_printoptions(precision=4, suppress=True)\n",
    "\n",
    "experiment_names = ['general', 'uniform']\n",
    "for name in experiment_names:\n",
    "    print(f\"starting experiment {name}\")\n",
    "    l = cp.Variable(N + 1)\n",
    "    T = cp.sum(d * cp.inv_pos(cp.sqrt(l))[:-1])\n",
    "    f = cp.Variable(N + 1)\n",
    "    constraints = [\n",
    "            m * l[1:] / 2 + m * g * h[1:] == m * l[:-1]/2 + m * g * h[:-1] + eta * f[1:] - d * C_D * l[:-1],\n",
    "            eta * f[0] == m * l[0] / 2,\n",
    "            T * P / eta + cp.sum(f) <= F,\n",
    "            f >= 0\n",
    "            ]\n",
    "    if name == 'uniform':\n",
    "        constraints.append(f[1:] == f[:-1])\n",
    "\n",
    "    obj = cp.Minimize(T)\n",
    "    problem = cp.Problem(obj, constraints)\n",
    "    problem.solve()\n",
    "    print(f\"problem.value: {problem.value}\")\n",
    "    print(f\"optimal f: {f.value}\")\n",
    "    s = np.sqrt(l.value)\n",
    "    print(f\"optimal speeds: {s}\")\n",
    "    for i in range(N):\n",
    "        distance = [i * d, (i + 1) * d]\n",
    "        speed = [s[i]] * 2 \n",
    "        plt.plot(distance, speed, color='red')\n",
    "    plt.show()\n"
   ]
  },
  {
   "cell_type": "code",
   "execution_count": null,
   "metadata": {},
   "outputs": [],
   "source": []
  },
  {
   "cell_type": "markdown",
   "metadata": {},
   "source": [
    "# 4"
   ]
  },
  {
   "cell_type": "code",
   "execution_count": 5,
   "metadata": {},
   "outputs": [
    {
     "name": "stdout",
     "output_type": "stream",
     "text": [
      "optimal x: [0.49725066 0.19936696 0.30338238]\n",
      "optimal value: 0.06227158\n",
      "Strategy : [1, 0, 0]\n",
      "Strategy value: 0.00000000\n",
      "Strategy : [0, 1, 0]\n",
      "Strategy value: -0.05613955\n",
      "Strategy : [0.5, 0.5, 0]\n",
      "Strategy value: 0.05347099\n"
     ]
    }
   ],
   "source": [
    "import numpy as np\n",
    "import cvxpy as cp\n",
    "\n",
    "np.set_printoptions(precision=8, suppress=True)\n",
    "\n",
    "pi = np.array([1/3, 1/6, 1/3, 1/6])\n",
    "R = np.array([\n",
    "    [2, 2, 0.5, 0.5],\n",
    "    [1.3, 0.5, 1.3, 0.5],\n",
    "    [1, 1, 1, 1]\n",
    "    ])\n",
    "n = 3\n",
    "x = cp.Variable(n)\n",
    "constraints = [cp.sum(x) == 1]\n",
    "obj = cp.Maximize(pi @ cp.log(R.T @ x))\n",
    "problem = cp.Problem(obj, constraints)\n",
    "problem.solve()\n",
    "print(f\"optimal x: {x.value}\")\n",
    "print(f\"optimal value: {problem.value:.8f}\")\n",
    "other_strategies = [\n",
    "        [1, 0, 0],\n",
    "        [0, 1, 0],\n",
    "        [1/2, 1/2, 0],\n",
    "        ]\n",
    "for st in other_strategies:\n",
    "    print(f\"Strategy : {st}\")\n",
    "    x.value = np.array(st)\n",
    "    print(f\"Strategy value: {obj.value:.8f}\")\n"
   ]
  },
  {
   "cell_type": "markdown",
   "metadata": {},
   "source": [
    "# 5"
   ]
  },
  {
   "cell_type": "code",
   "execution_count": 8,
   "metadata": {},
   "outputs": [
    {
     "name": "stdout",
     "output_type": "stream",
     "text": [
      "value:  40.74950296992082\n",
      "optimal x: [ 0.     18.9326  0.      0.     13.8493  8.9228]\n",
      "optimal B0: 0.0000\n",
      "Optimal: \n",
      "initial money required:  40.74950294681729\n"
     ]
    },
    {
     "data": {
      "image/png": "[encoded data removed]",
      "text/plain": [
       "<Figure size 432x288 with 1 Axes>"
      ]
     },
     "metadata": {
      "needs_background": "light"
     },
     "output_type": "display_data"
    },
    {
     "name": "stdout",
     "output_type": "stream",
     "text": [
      "no bonds: \n",
      "initial money required:  41.7902433599184\n"
     ]
    },
    {
     "data": {
      "image/png": "[encoded data removed]",
      "text/plain": [
       "<Figure size 432x288 with 1 Axes>"
      ]
     },
     "metadata": {
      "needs_background": "light"
     },
     "output_type": "display_data"
    }
   ],
   "source": [
    "import numpy as np\n",
    "import cvxpy as cp\n",
    "import matplotlib.pyplot as plt\n",
    "from data.opt_funding_data import n, T, rp, rn, E, C, P, M, A\n",
    "np.set_printoptions(precision=4, suppress=True)\n",
    "\n",
    "B = cp.Variable(T + 1)\n",
    "I = cp.Variable(T + 1)\n",
    "x = cp.Variable(n)\n",
    "E = np.hstack([0, E])\n",
    "\n",
    "constraints = [\n",
    "        B[-1] + I[-1] - E[-1] == 0,\n",
    "        B[:-1] >= B[1:] * (1/(1 + rn)) + cp.pos(B[1:]) * (1/(1 + rp) - 1/(1 + rn)) - I[:-1] + E[:-1],\n",
    "        B[0] >= 0,\n",
    "        I[0] == 0,\n",
    "        I[1:] == A @ x,\n",
    "        x >= 0,\n",
    "        ]\n",
    "\n",
    "obj = cp.Minimize(x @ P + B[0])\n",
    "problem = cp.Problem(obj, constraints)\n",
    "problem.solve()\n",
    "print(\"value: \", problem.value)\n",
    "print(f\"optimal x: {x.value}\")\n",
    "print(f\"optimal B0: {B[0].value:.4f}\")\n",
    "\n",
    "def plot_balance(x_val):\n",
    "    B = cp.Variable(T + 1)\n",
    "    I = cp.Variable(T + 1)\n",
    "    x = cp.Variable(n)\n",
    "    constraints = [\n",
    "            B[-1] + I[-1] - E[-1] == 0,\n",
    "            B[:-1] >= B[1:] * (1/(1 + rn)) + cp.pos(B[1:]) * (1/(1 + rp) - 1/(1 + rn)) - I[:-1] + E[:-1],\n",
    "            B[0] >= 0,\n",
    "            I[0] == 0,\n",
    "            I[1:] == A @ x,\n",
    "            x == x_val,\n",
    "            ]\n",
    "\n",
    "    obj = cp.Minimize(x @ P + B[0])\n",
    "    problem = cp.Problem(obj, constraints)\n",
    "    problem.solve()\n",
    "    print(\"initial money required: \", problem.value)\n",
    "    plt.scatter(np.arange(T + 1), B.value, color='blue')\n",
    "    plt.plot(np.arange(T + 1), B.value, color='red')\n",
    "    plt.show()\n",
    "\n",
    "print(\"Optimal: \")\n",
    "plot_balance(x.value)\n",
    "print(\"no bonds: \")\n",
    "plot_balance(np.zeros(n))\n"
   ]
  },
  {
   "cell_type": "code",
   "execution_count": null,
   "metadata": {},
   "outputs": [],
   "source": []
  }
 ],
 "metadata": {
  "kernelspec": {
   "display_name": "Python 3",
   "language": "python",
   "name": "python3"
  },
  "language_info": {
   "codemirror_mode": {
    "name": "ipython",
    "version": 3
   },
   "file_extension": ".py",
   "mimetype": "text/x-python",
   "name": "python",
   "nbconvert_exporter": "python",
   "pygments_lexer": "ipython3",
   "version": "3.8.2"
  }
 },
 "nbformat": 4,
 "nbformat_minor": 2
}
