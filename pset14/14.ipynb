{
 "cells": [
  {
   "cell_type": "markdown",
   "metadata": {},
   "source": [
    "# 1"
   ]
  },
  {
   "cell_type": "code",
   "execution_count": 1,
   "metadata": {},
   "outputs": [
    {
     "name": "stdout",
     "output_type": "stream",
     "text": [
      "l2(diff) / l2(x_naive) = 2.079451888488464e-12\n",
      "Time for naive: 1.780977725982666\n",
      "Time for smart: 0.01312708854675293\n",
      "Time ratio: 135.67\n"
     ]
    }
   ],
   "source": [
    "import numpy as np\n",
    "import cvxpy as cp\n",
    "from scipy.linalg import solve_banded\n",
    "from time import time\n",
    "np.random.seed(78)\n",
    "np.set_printoptions(precision=4)\n",
    "\n",
    "delta = 1\n",
    "eta = 1\n",
    "n = 4000\n",
    "k = 100\n",
    "\n",
    "Y = np.random.randn(n, k)\n",
    "b = np.random.randn(k)\n",
    "c = Y.dot(b)\n",
    "X = np.identity(n) * eta\n",
    "X[np.arange(n - 1), np.arange(n - 1) + 1] -= delta\n",
    "X[np.arange(n - 1) + 1, np.arange(n - 1)] -= delta\n",
    "X[np.arange(n - 1), np.arange(n - 1)] += delta\n",
    "X[np.arange(n - 1) + 1, np.arange(n - 1) + 1] += delta\n",
    "\n",
    "def naive():\n",
    "    A = X + Y.dot(Y.T)\n",
    "    x = np.linalg.solve(A, c)\n",
    "    return x\n",
    "\n",
    "def smart():\n",
    "    X = np.zeros((3, n))\n",
    "    X[0][1:] -= delta\n",
    "    X[2][:-1] -= delta\n",
    "    X[1][:-1] += delta\n",
    "    X[1][1:] += delta\n",
    "    X[1] += eta\n",
    "    q = np.identity(k) + np.dot(Y.T, solve_banded((1, 1), X, Y))\n",
    "    y = np.linalg.solve(q, np.dot(Y.T, solve_banded((1, 1), X, c)))\n",
    "    x = solve_banded((1, 1), X, c - np.dot(Y, y))\n",
    "    return x\n",
    "\n",
    "def main():\n",
    "    t0 = time()\n",
    "    x_naive = naive()\n",
    "    t1 = time()\n",
    "    t_naive = t1 - t0\n",
    "\n",
    "    t0 = time()\n",
    "    x_smart = smart()\n",
    "    t1 = time()\n",
    "    t_smart = t1 - t0\n",
    "\n",
    "    l2 = np.linalg.norm\n",
    "    print(f\"l2(diff) / l2(x_naive) = {l2(x_smart - x_naive) / l2(x_naive)}\")\n",
    "    print(f\"Time for naive: {t_naive}\")\n",
    "    print(f\"Time for smart: {t_smart}\")\n",
    "    print(f\"Time ratio: {t_naive / t_smart:.2f}\")\n",
    "\n",
    "main()\n"
   ]
  },
  {
   "cell_type": "markdown",
   "metadata": {},
   "source": [
    "# 2"
   ]
  },
  {
   "cell_type": "code",
   "execution_count": 2,
   "metadata": {},
   "outputs": [
    {
     "name": "stdout",
     "output_type": "stream",
     "text": [
      "optimal dynamic range = 0.07961763169741526\n",
      "optimal gain = [40.      0.9984 12.52   20.    ]\n"
     ]
    }
   ],
   "source": [
    "import numpy as np\n",
    "import cvxpy as cp\n",
    "\n",
    "np.set_printoptions(precision=4, suppress=True)\n",
    "n = 4\n",
    "A_tot = 10000\n",
    "alpha = np.array([1e-5, 1e-2, 1e-2, 1e-2])\n",
    "M = np.array([0.1, 5, 10, 10])\n",
    "A_max = np.array([40, 40, 40, 20])\n",
    "\n",
    "b = cp.Variable(n)\n",
    "r = cp.Variable(n)\n",
    "s = cp.Variable(n)\n",
    "beta = np.log(alpha)\n",
    "m = np.log(M)\n",
    "B = np.log(A_max)\n",
    "\n",
    "constraints = [\n",
    "        b <= B,\n",
    "        cp.sum(b) == np.log(A_tot),\n",
    "        s <= m,\n",
    "        s[1:] == s[:-1] + b[1:],\n",
    "        r[1:] >= b[1:] + beta[1:] + cp.logistic(2 * r[:-1] - 2 * beta[1:]),\n",
    "        r[0] == beta[0] + b[0],\n",
    "        ]\n",
    "obj = cp.Maximize(s[-1] - r[-1])\n",
    "problem = cp.Problem(obj, constraints)\n",
    "problem.solve()\n",
    "a = np.exp(b.value)\n",
    "print(f\"optimal dynamic range = {np.exp(problem.value)}\")\n",
    "print(f\"optimal gain = {a}\")\n"
   ]
  },
  {
   "cell_type": "markdown",
   "metadata": {},
   "source": [
    "# 3"
   ]
  },
  {
   "cell_type": "code",
   "execution_count": 4,
   "metadata": {},
   "outputs": [
    {
     "data": {
      "image/png": "[encoded data removed]",
      "text/plain": [
       "<Figure size 432x288 with 1 Axes>"
      ]
     },
     "metadata": {
      "needs_background": "light"
     },
     "output_type": "display_data"
    }
   ],
   "source": [
    "import numpy as np\n",
    "import cvxpy as cp\n",
    "import matplotlib.pyplot as plt\n",
    "\n",
    "from data.tens_struct_data import (n, N, A, p,\n",
    "        g, x_fixed, y_fixed, m, k_tot,\n",
    "        k_unif, x_unif, y_unif, )\n",
    "\n",
    "def plot(x_opt, y_opt, k_opt):\n",
    "    ind_ex = np.where(k_opt < 1e-2); #do not show springs with k < 1e-2\n",
    "    Aadj = A[:,np.setdiff1d(np.arange(N),ind_ex)];\n",
    "    Aadj2 = np.dot(Aadj,Aadj.T)-np.diag(np.diag(Aadj@Aadj.T)) != 0;\n",
    "    \n",
    "    for i in range(n):\n",
    "        for j in range(i):\n",
    "            if Aadj2[i,j]:\n",
    "                plt.plot([x_opt[i],x_opt[j]],[y_opt[i],y_opt[j]],\"bo-\")\n",
    "    plt.plot(x_fixed,y_fixed,'ro');\n",
    "    plt.show()\n",
    "\n",
    "x_prime = cp.Variable(n - p)\n",
    "y_prime = cp.Variable(n - p)\n",
    "t = cp.Variable()\n",
    "\n",
    "x = cp.hstack([x_fixed, x_prime])\n",
    "y = cp.hstack([y_fixed, y_prime])\n",
    "\n",
    "obj = cp.Minimize(g * (m @ y) + k_tot * t)\n",
    "\n",
    "constraints = [\n",
    "        1/2 * ((A.T @ x)**2 + (A.T @ y)**2) <= t\n",
    "        ]\n",
    "\n",
    "problem = cp.Problem(obj, constraints)\n",
    "problem.solve()\n",
    "\n",
    "k_opt = constraints[0].dual_value\n",
    "x_opt = x.value\n",
    "y_opt = y.value\n",
    "plot(x_opt, y_opt, k_opt)\n"
   ]
  },
  {
   "cell_type": "code",
   "execution_count": null,
   "metadata": {},
   "outputs": [],
   "source": []
  }
 ],
 "metadata": {
  "kernelspec": {
   "display_name": "Python 3",
   "language": "python",
   "name": "python3"
  },
  "language_info": {
   "codemirror_mode": {
    "name": "ipython",
    "version": 3
   },
   "file_extension": ".py",
   "mimetype": "text/x-python",
   "name": "python",
   "nbconvert_exporter": "python",
   "pygments_lexer": "ipython3",
   "version": "3.8.2"
  }
 },
 "nbformat": 4,
 "nbformat_minor": 2
}
